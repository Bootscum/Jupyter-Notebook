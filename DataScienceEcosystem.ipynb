{
 "cells": [
  {
   "cell_type": "markdown",
   "id": "1e1b426d-31ea-408a-98ea-b0e2e072857c",
   "metadata": {},
   "source": [
    "# Data Science Tools and Ecosystem"
   ]
  },
  {
   "cell_type": "markdown",
   "id": "99137f98-9cf3-4d99-9383-8fab14f2a129",
   "metadata": {},
   "source": [
    "In this notebook, Data Science Tools and Ecosystem are summarized.\n"
   ]
  },
  {
   "cell_type": "markdown",
   "id": "2f2349d7-b812-45a7-827a-6f547d9c5e46",
   "metadata": {},
   "source": [
    "__Objectives:__\n",
    "- List popular languages\n",
    "- List common libraries\n",
    "- Demonstrate arithmatice expression\n",
    "- List Data Sciecne Tools\n"
   ]
  },
  {
   "cell_type": "markdown",
   "id": "50c4f763-df90-4077-87a5-08bedaaf7eb3",
   "metadata": {},
   "source": [
    "Some of the popular languages that Data Scientists use are:\n",
    "1. Python\n",
    "2. R\n",
    "3. SQL\n",
    "4. Java"
   ]
  },
  {
   "cell_type": "markdown",
   "id": "8cf99ab4-c236-4672-8893-51e1f0ead225",
   "metadata": {},
   "source": [
    "Some of the commonly used libraries used by Data Scientists include:\n",
    "\n",
    "1. Matpoltlib\n",
    "2. Pandas\n",
    "3. Numpy\n",
    "   "
   ]
  },
  {
   "cell_type": "markdown",
   "id": "17dd732d-4e15-4d59-9aed-e59486758710",
   "metadata": {},
   "source": [
    "|Data Science Tools|\n",
    "|---------------|\n",
    "|Pandas|\n",
    "|Jupyter Notebooks|\n",
    "|Pytourch|"
   ]
  },
  {
   "cell_type": "markdown",
   "id": "f02738b9-3701-4aac-8350-23942637dbea",
   "metadata": {},
   "source": [
    "### Below are a few examples of evaluating arithmetic expressions in Python"
   ]
  },
  {
   "cell_type": "code",
   "execution_count": 2,
   "id": "2ec78aa9-0b2f-42ee-88fb-e1881a059ce9",
   "metadata": {},
   "outputs": [
    {
     "data": {
      "text/plain": [
       "17"
      ]
     },
     "execution_count": 2,
     "metadata": {},
     "output_type": "execute_result"
    }
   ],
   "source": [
    "#This a simple arithmetic expression to mutiply then add integers\n",
    "(3*4)+5"
   ]
  },
  {
   "cell_type": "code",
   "execution_count": 3,
   "id": "febaf10d-3e58-45db-a564-65a7c7b2d5ec",
   "metadata": {},
   "outputs": [
    {
     "name": "stdout",
     "output_type": "stream",
     "text": [
      "3.3333333333333335\n"
     ]
    }
   ],
   "source": [
    " #This will convert 200 minutes to hours by dividing by 60\n",
    "result = 200/60\n",
    "print(result)"
   ]
  },
  {
   "cell_type": "code",
   "execution_count": null,
   "id": "247f8ebd-c18f-4fad-b137-d9219ac2e0c1",
   "metadata": {},
   "outputs": [],
   "source": []
  },
  {
   "cell_type": "markdown",
   "id": "019c1ca9-ddc9-4bf3-8703-cb015ad87a97",
   "metadata": {},
   "source": [
    "## Author\n",
    "John Stowers"
   ]
  },
  {
   "cell_type": "code",
   "execution_count": null,
   "id": "98adb6da-ad05-49d5-a983-68251693b55d",
   "metadata": {},
   "outputs": [],
   "source": []
  }
 ],
 "metadata": {
  "kernelspec": {
   "display_name": "Python [conda env:base] *",
   "language": "python",
   "name": "conda-base-py"
  },
  "language_info": {
   "codemirror_mode": {
    "name": "ipython",
    "version": 3
   },
   "file_extension": ".py",
   "mimetype": "text/x-python",
   "name": "python",
   "nbconvert_exporter": "python",
   "pygments_lexer": "ipython3",
   "version": "3.13.5"
  }
 },
 "nbformat": 4,
 "nbformat_minor": 5
}
